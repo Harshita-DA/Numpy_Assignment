{
 "cells": [
  {
   "cell_type": "markdown",
   "id": "785d603e-8837-4b36-bff9-eec87bd25855",
   "metadata": {},
   "source": [
    "# NumPy Queries for Indian Cricket Team Dataset"
   ]
  },
  {
   "cell_type": "code",
   "execution_count": 1,
   "id": "611f5bfd-4d1b-4444-8deb-82c0335ea31c",
   "metadata": {},
   "outputs": [],
   "source": [
    "import numpy as np"
   ]
  },
  {
   "cell_type": "code",
   "execution_count": 2,
   "id": "ac058259-177f-4483-aa8e-f8bee7e79735",
   "metadata": {},
   "outputs": [],
   "source": [
    "import pandas as pd"
   ]
  },
  {
   "cell_type": "code",
   "execution_count": 3,
   "id": "81b404fd-2d10-4a9b-9b1b-d612d2f419b2",
   "metadata": {},
   "outputs": [],
   "source": [
    "df = pd.read_csv(\"C:/Users/admin/Downloads/Indian_Cricket_Team_Dataset.csv\")"
   ]
  },
  {
   "cell_type": "code",
   "execution_count": 4,
   "id": "60951e02-ef8c-4e32-80ac-24bd280ca59d",
   "metadata": {},
   "outputs": [
    {
     "data": {
      "text/html": [
       "<div>\n",
       "<style scoped>\n",
       "    .dataframe tbody tr th:only-of-type {\n",
       "        vertical-align: middle;\n",
       "    }\n",
       "\n",
       "    .dataframe tbody tr th {\n",
       "        vertical-align: top;\n",
       "    }\n",
       "\n",
       "    .dataframe thead th {\n",
       "        text-align: right;\n",
       "    }\n",
       "</style>\n",
       "<table border=\"1\" class=\"dataframe\">\n",
       "  <thead>\n",
       "    <tr style=\"text-align: right;\">\n",
       "      <th></th>\n",
       "      <th>Player Name</th>\n",
       "      <th>Age</th>\n",
       "      <th>Matches Played</th>\n",
       "      <th>Batting Average</th>\n",
       "      <th>Strike Rate</th>\n",
       "    </tr>\n",
       "  </thead>\n",
       "  <tbody>\n",
       "    <tr>\n",
       "      <th>0</th>\n",
       "      <td>Player_1</td>\n",
       "      <td>26</td>\n",
       "      <td>456</td>\n",
       "      <td>27.70</td>\n",
       "      <td>188.21</td>\n",
       "    </tr>\n",
       "    <tr>\n",
       "      <th>1</th>\n",
       "      <td>Player_2</td>\n",
       "      <td>23</td>\n",
       "      <td>154</td>\n",
       "      <td>24.61</td>\n",
       "      <td>139.34</td>\n",
       "    </tr>\n",
       "    <tr>\n",
       "      <th>2</th>\n",
       "      <td>Player_3</td>\n",
       "      <td>32</td>\n",
       "      <td>210</td>\n",
       "      <td>36.87</td>\n",
       "      <td>182.79</td>\n",
       "    </tr>\n",
       "    <tr>\n",
       "      <th>3</th>\n",
       "      <td>Player_4</td>\n",
       "      <td>34</td>\n",
       "      <td>426</td>\n",
       "      <td>51.81</td>\n",
       "      <td>178.77</td>\n",
       "    </tr>\n",
       "    <tr>\n",
       "      <th>4</th>\n",
       "      <td>Player_5</td>\n",
       "      <td>30</td>\n",
       "      <td>221</td>\n",
       "      <td>49.80</td>\n",
       "      <td>162.44</td>\n",
       "    </tr>\n",
       "  </tbody>\n",
       "</table>\n",
       "</div>"
      ],
      "text/plain": [
       "  Player Name  Age  Matches Played  Batting Average  Strike Rate\n",
       "0    Player_1   26             456            27.70       188.21\n",
       "1    Player_2   23             154            24.61       139.34\n",
       "2    Player_3   32             210            36.87       182.79\n",
       "3    Player_4   34             426            51.81       178.77\n",
       "4    Player_5   30             221            49.80       162.44"
      ]
     },
     "execution_count": 4,
     "metadata": {},
     "output_type": "execute_result"
    }
   ],
   "source": [
    "df.head()"
   ]
  },
  {
   "cell_type": "code",
   "execution_count": 5,
   "id": "33a7be3f-7720-4e37-816c-9896755c658a",
   "metadata": {},
   "outputs": [
    {
     "data": {
      "text/html": [
       "<div>\n",
       "<style scoped>\n",
       "    .dataframe tbody tr th:only-of-type {\n",
       "        vertical-align: middle;\n",
       "    }\n",
       "\n",
       "    .dataframe tbody tr th {\n",
       "        vertical-align: top;\n",
       "    }\n",
       "\n",
       "    .dataframe thead th {\n",
       "        text-align: right;\n",
       "    }\n",
       "</style>\n",
       "<table border=\"1\" class=\"dataframe\">\n",
       "  <thead>\n",
       "    <tr style=\"text-align: right;\">\n",
       "      <th></th>\n",
       "      <th>Player Name</th>\n",
       "      <th>Age</th>\n",
       "      <th>Matches Played</th>\n",
       "      <th>Batting Average</th>\n",
       "      <th>Strike Rate</th>\n",
       "    </tr>\n",
       "  </thead>\n",
       "  <tbody>\n",
       "    <tr>\n",
       "      <th>0</th>\n",
       "      <td>Player_1</td>\n",
       "      <td>26</td>\n",
       "      <td>456</td>\n",
       "      <td>27.70</td>\n",
       "      <td>188.21</td>\n",
       "    </tr>\n",
       "    <tr>\n",
       "      <th>1</th>\n",
       "      <td>Player_2</td>\n",
       "      <td>23</td>\n",
       "      <td>154</td>\n",
       "      <td>24.61</td>\n",
       "      <td>139.34</td>\n",
       "    </tr>\n",
       "    <tr>\n",
       "      <th>2</th>\n",
       "      <td>Player_3</td>\n",
       "      <td>32</td>\n",
       "      <td>210</td>\n",
       "      <td>36.87</td>\n",
       "      <td>182.79</td>\n",
       "    </tr>\n",
       "    <tr>\n",
       "      <th>3</th>\n",
       "      <td>Player_4</td>\n",
       "      <td>34</td>\n",
       "      <td>426</td>\n",
       "      <td>51.81</td>\n",
       "      <td>178.77</td>\n",
       "    </tr>\n",
       "    <tr>\n",
       "      <th>4</th>\n",
       "      <td>Player_5</td>\n",
       "      <td>30</td>\n",
       "      <td>221</td>\n",
       "      <td>49.80</td>\n",
       "      <td>162.44</td>\n",
       "    </tr>\n",
       "    <tr>\n",
       "      <th>5</th>\n",
       "      <td>Player_6</td>\n",
       "      <td>27</td>\n",
       "      <td>470</td>\n",
       "      <td>22.20</td>\n",
       "      <td>149.45</td>\n",
       "    </tr>\n",
       "    <tr>\n",
       "      <th>6</th>\n",
       "      <td>Player_7</td>\n",
       "      <td>32</td>\n",
       "      <td>229</td>\n",
       "      <td>38.21</td>\n",
       "      <td>197.96</td>\n",
       "    </tr>\n",
       "    <tr>\n",
       "      <th>7</th>\n",
       "      <td>Player_8</td>\n",
       "      <td>24</td>\n",
       "      <td>249</td>\n",
       "      <td>40.90</td>\n",
       "      <td>114.50</td>\n",
       "    </tr>\n",
       "    <tr>\n",
       "      <th>8</th>\n",
       "      <td>Player_9</td>\n",
       "      <td>26</td>\n",
       "      <td>422</td>\n",
       "      <td>45.78</td>\n",
       "      <td>172.52</td>\n",
       "    </tr>\n",
       "    <tr>\n",
       "      <th>9</th>\n",
       "      <td>Player_10</td>\n",
       "      <td>29</td>\n",
       "      <td>406</td>\n",
       "      <td>46.01</td>\n",
       "      <td>119.12</td>\n",
       "    </tr>\n",
       "    <tr>\n",
       "      <th>10</th>\n",
       "      <td>Player_11</td>\n",
       "      <td>22</td>\n",
       "      <td>55</td>\n",
       "      <td>34.59</td>\n",
       "      <td>133.83</td>\n",
       "    </tr>\n",
       "    <tr>\n",
       "      <th>11</th>\n",
       "      <td>Player_12</td>\n",
       "      <td>26</td>\n",
       "      <td>44</td>\n",
       "      <td>42.43</td>\n",
       "      <td>130.87</td>\n",
       "    </tr>\n",
       "    <tr>\n",
       "      <th>12</th>\n",
       "      <td>Player_13</td>\n",
       "      <td>30</td>\n",
       "      <td>262</td>\n",
       "      <td>39.24</td>\n",
       "      <td>194.70</td>\n",
       "    </tr>\n",
       "    <tr>\n",
       "      <th>13</th>\n",
       "      <td>Player_14</td>\n",
       "      <td>30</td>\n",
       "      <td>399</td>\n",
       "      <td>55.40</td>\n",
       "      <td>196.74</td>\n",
       "    </tr>\n",
       "    <tr>\n",
       "      <th>14</th>\n",
       "      <td>Player_15</td>\n",
       "      <td>27</td>\n",
       "      <td>91</td>\n",
       "      <td>41.21</td>\n",
       "      <td>118.30</td>\n",
       "    </tr>\n",
       "    <tr>\n",
       "      <th>15</th>\n",
       "      <td>Player_16</td>\n",
       "      <td>24</td>\n",
       "      <td>380</td>\n",
       "      <td>37.64</td>\n",
       "      <td>102.20</td>\n",
       "    </tr>\n",
       "    <tr>\n",
       "      <th>16</th>\n",
       "      <td>Player_17</td>\n",
       "      <td>23</td>\n",
       "      <td>265</td>\n",
       "      <td>36.18</td>\n",
       "      <td>172.00</td>\n",
       "    </tr>\n",
       "    <tr>\n",
       "      <th>17</th>\n",
       "      <td>Player_18</td>\n",
       "      <td>27</td>\n",
       "      <td>206</td>\n",
       "      <td>42.90</td>\n",
       "      <td>141.80</td>\n",
       "    </tr>\n",
       "    <tr>\n",
       "      <th>18</th>\n",
       "      <td>Player_19</td>\n",
       "      <td>27</td>\n",
       "      <td>312</td>\n",
       "      <td>52.16</td>\n",
       "      <td>108.88</td>\n",
       "    </tr>\n",
       "    <tr>\n",
       "      <th>19</th>\n",
       "      <td>Player_20</td>\n",
       "      <td>22</td>\n",
       "      <td>418</td>\n",
       "      <td>41.54</td>\n",
       "      <td>168.38</td>\n",
       "    </tr>\n",
       "  </tbody>\n",
       "</table>\n",
       "</div>"
      ],
      "text/plain": [
       "   Player Name  Age  Matches Played  Batting Average  Strike Rate\n",
       "0     Player_1   26             456            27.70       188.21\n",
       "1     Player_2   23             154            24.61       139.34\n",
       "2     Player_3   32             210            36.87       182.79\n",
       "3     Player_4   34             426            51.81       178.77\n",
       "4     Player_5   30             221            49.80       162.44\n",
       "5     Player_6   27             470            22.20       149.45\n",
       "6     Player_7   32             229            38.21       197.96\n",
       "7     Player_8   24             249            40.90       114.50\n",
       "8     Player_9   26             422            45.78       172.52\n",
       "9    Player_10   29             406            46.01       119.12\n",
       "10   Player_11   22              55            34.59       133.83\n",
       "11   Player_12   26              44            42.43       130.87\n",
       "12   Player_13   30             262            39.24       194.70\n",
       "13   Player_14   30             399            55.40       196.74\n",
       "14   Player_15   27              91            41.21       118.30\n",
       "15   Player_16   24             380            37.64       102.20\n",
       "16   Player_17   23             265            36.18       172.00\n",
       "17   Player_18   27             206            42.90       141.80\n",
       "18   Player_19   27             312            52.16       108.88\n",
       "19   Player_20   22             418            41.54       168.38"
      ]
     },
     "execution_count": 5,
     "metadata": {},
     "output_type": "execute_result"
    }
   ],
   "source": [
    "df.head(20)"
   ]
  },
  {
   "cell_type": "markdown",
   "id": "3700d833-01e0-49ad-83d6-421a44aa99d5",
   "metadata": {},
   "source": [
    "# Query 1: Convert 'Age' column to a NumPy array"
   ]
  },
  {
   "cell_type": "code",
   "execution_count": 6,
   "id": "d503ad7f-f7c4-4751-af0f-7997cc55b859",
   "metadata": {},
   "outputs": [
    {
     "data": {
      "text/plain": [
       "0      26\n",
       "1      23\n",
       "2      32\n",
       "3      34\n",
       "4      30\n",
       "       ..\n",
       "995    24\n",
       "996    28\n",
       "997    23\n",
       "998    35\n",
       "999    30\n",
       "Name: Age, Length: 1000, dtype: int64"
      ]
     },
     "execution_count": 6,
     "metadata": {},
     "output_type": "execute_result"
    }
   ],
   "source": [
    "df.Age"
   ]
  },
  {
   "cell_type": "code",
   "execution_count": 7,
   "id": "17086415-6dc9-422c-b7d7-dcbc0f1a0e2c",
   "metadata": {},
   "outputs": [
    {
     "data": {
      "text/html": [
       "<div>\n",
       "<style scoped>\n",
       "    .dataframe tbody tr th:only-of-type {\n",
       "        vertical-align: middle;\n",
       "    }\n",
       "\n",
       "    .dataframe tbody tr th {\n",
       "        vertical-align: top;\n",
       "    }\n",
       "\n",
       "    .dataframe thead th {\n",
       "        text-align: right;\n",
       "    }\n",
       "</style>\n",
       "<table border=\"1\" class=\"dataframe\">\n",
       "  <thead>\n",
       "    <tr style=\"text-align: right;\">\n",
       "      <th></th>\n",
       "      <th>Age</th>\n",
       "    </tr>\n",
       "  </thead>\n",
       "  <tbody>\n",
       "    <tr>\n",
       "      <th>0</th>\n",
       "      <td>26</td>\n",
       "    </tr>\n",
       "    <tr>\n",
       "      <th>1</th>\n",
       "      <td>23</td>\n",
       "    </tr>\n",
       "    <tr>\n",
       "      <th>2</th>\n",
       "      <td>32</td>\n",
       "    </tr>\n",
       "    <tr>\n",
       "      <th>3</th>\n",
       "      <td>34</td>\n",
       "    </tr>\n",
       "    <tr>\n",
       "      <th>4</th>\n",
       "      <td>30</td>\n",
       "    </tr>\n",
       "    <tr>\n",
       "      <th>...</th>\n",
       "      <td>...</td>\n",
       "    </tr>\n",
       "    <tr>\n",
       "      <th>995</th>\n",
       "      <td>24</td>\n",
       "    </tr>\n",
       "    <tr>\n",
       "      <th>996</th>\n",
       "      <td>28</td>\n",
       "    </tr>\n",
       "    <tr>\n",
       "      <th>997</th>\n",
       "      <td>23</td>\n",
       "    </tr>\n",
       "    <tr>\n",
       "      <th>998</th>\n",
       "      <td>35</td>\n",
       "    </tr>\n",
       "    <tr>\n",
       "      <th>999</th>\n",
       "      <td>30</td>\n",
       "    </tr>\n",
       "  </tbody>\n",
       "</table>\n",
       "<p>1000 rows × 1 columns</p>\n",
       "</div>"
      ],
      "text/plain": [
       "     Age\n",
       "0     26\n",
       "1     23\n",
       "2     32\n",
       "3     34\n",
       "4     30\n",
       "..   ...\n",
       "995   24\n",
       "996   28\n",
       "997   23\n",
       "998   35\n",
       "999   30\n",
       "\n",
       "[1000 rows x 1 columns]"
      ]
     },
     "execution_count": 7,
     "metadata": {},
     "output_type": "execute_result"
    }
   ],
   "source": [
    "df[['Age']]"
   ]
  },
  {
   "cell_type": "markdown",
   "id": "20178db9-14de-48b7-a53e-0a7f7b25aa09",
   "metadata": {},
   "source": [
    "# Query 2: Find the average age of players."
   ]
  },
  {
   "cell_type": "code",
   "execution_count": 8,
   "id": "2512676b-9348-4ba8-ab88-e50142f96070",
   "metadata": {},
   "outputs": [
    {
     "name": "stdout",
     "output_type": "stream",
     "text": [
      "27.57\n"
     ]
    }
   ],
   "source": [
    "x = df['Age'].mean()\n",
    "print(x)"
   ]
  },
  {
   "cell_type": "markdown",
   "id": "e1ce9f48-9cca-4771-bb03-a4b305e02c16",
   "metadata": {},
   "source": [
    "# Query 3: Find the oldest and youngest player age."
   ]
  },
  {
   "cell_type": "code",
   "execution_count": 17,
   "id": "9f0113fa-fc03-4616-9a95-fec9db9d1350",
   "metadata": {},
   "outputs": [
    {
     "name": "stdout",
     "output_type": "stream",
     "text": [
      "35\n",
      "20\n"
     ]
    }
   ],
   "source": [
    "max_age=np.array(df['Age'].max())\n",
    "print(max_age)\n",
    "min_age=np.array(df['Age'].min())\n",
    "print(min_age)"
   ]
  },
  {
   "cell_type": "markdown",
   "id": "47dbc95e-cfbf-4ec4-9834-104a5027de2f",
   "metadata": {},
   "source": [
    "# Query 4: Count the total number of players above 30 years old."
   ]
  },
  {
   "cell_type": "code",
   "execution_count": 10,
   "id": "d96088a4-5fa5-45ed-a826-e851a707d9a8",
   "metadata": {},
   "outputs": [
    {
     "name": "stdout",
     "output_type": "stream",
     "text": [
      "    Player Name  Age  Matches Played  Batting Average  Strike Rate\n",
      "2      Player_3   32             210            36.87       182.79\n",
      "3      Player_4   34             426            51.81       178.77\n",
      "6      Player_7   32             229            38.21       197.96\n",
      "24    Player_25   31             251            55.07       154.25\n",
      "25    Player_26   33             260            36.70       179.17\n",
      "..          ...  ...             ...              ...          ...\n",
      "986  Player_987   31              25            30.73       124.75\n",
      "991  Player_992   31             478            42.48       119.14\n",
      "993  Player_994   31             259            32.61       193.50\n",
      "994  Player_995   31             400            50.87       143.05\n",
      "998  Player_999   35              16            41.93       135.59\n",
      "\n",
      "[336 rows x 5 columns]\n"
     ]
    }
   ],
   "source": [
    "count = df[(df.Age > 30)]\n",
    "print(count)"
   ]
  },
  {
   "cell_type": "code",
   "execution_count": 18,
   "id": "eec0171c-bc4f-42b8-9eac-a249649688f6",
   "metadata": {},
   "outputs": [
    {
     "name": "stdout",
     "output_type": "stream",
     "text": [
      "336\n"
     ]
    }
   ],
   "source": [
    "count=np.array((df[\"Age\"]>30).sum())\n",
    "print(count)"
   ]
  },
  {
   "cell_type": "markdown",
   "id": "175411b2-dd42-462f-be67-af16ee84b872",
   "metadata": {},
   "source": [
    "# Query 5: Find the median batting average."
   ]
  },
  {
   "cell_type": "code",
   "execution_count": 12,
   "id": "6c5d5dd4-fd1a-4bfe-a54b-9c06ab551b9b",
   "metadata": {},
   "outputs": [
    {
     "data": {
      "text/html": [
       "<div>\n",
       "<style scoped>\n",
       "    .dataframe tbody tr th:only-of-type {\n",
       "        vertical-align: middle;\n",
       "    }\n",
       "\n",
       "    .dataframe tbody tr th {\n",
       "        vertical-align: top;\n",
       "    }\n",
       "\n",
       "    .dataframe thead th {\n",
       "        text-align: right;\n",
       "    }\n",
       "</style>\n",
       "<table border=\"1\" class=\"dataframe\">\n",
       "  <thead>\n",
       "    <tr style=\"text-align: right;\">\n",
       "      <th></th>\n",
       "      <th>Batting Average</th>\n",
       "    </tr>\n",
       "  </thead>\n",
       "  <tbody>\n",
       "    <tr>\n",
       "      <th>0</th>\n",
       "      <td>27.70</td>\n",
       "    </tr>\n",
       "    <tr>\n",
       "      <th>1</th>\n",
       "      <td>24.61</td>\n",
       "    </tr>\n",
       "    <tr>\n",
       "      <th>2</th>\n",
       "      <td>36.87</td>\n",
       "    </tr>\n",
       "    <tr>\n",
       "      <th>3</th>\n",
       "      <td>51.81</td>\n",
       "    </tr>\n",
       "    <tr>\n",
       "      <th>4</th>\n",
       "      <td>49.80</td>\n",
       "    </tr>\n",
       "    <tr>\n",
       "      <th>...</th>\n",
       "      <td>...</td>\n",
       "    </tr>\n",
       "    <tr>\n",
       "      <th>995</th>\n",
       "      <td>23.46</td>\n",
       "    </tr>\n",
       "    <tr>\n",
       "      <th>996</th>\n",
       "      <td>29.47</td>\n",
       "    </tr>\n",
       "    <tr>\n",
       "      <th>997</th>\n",
       "      <td>49.30</td>\n",
       "    </tr>\n",
       "    <tr>\n",
       "      <th>998</th>\n",
       "      <td>41.93</td>\n",
       "    </tr>\n",
       "    <tr>\n",
       "      <th>999</th>\n",
       "      <td>25.12</td>\n",
       "    </tr>\n",
       "  </tbody>\n",
       "</table>\n",
       "<p>1000 rows × 1 columns</p>\n",
       "</div>"
      ],
      "text/plain": [
       "     Batting Average\n",
       "0              27.70\n",
       "1              24.61\n",
       "2              36.87\n",
       "3              51.81\n",
       "4              49.80\n",
       "..               ...\n",
       "995            23.46\n",
       "996            29.47\n",
       "997            49.30\n",
       "998            41.93\n",
       "999            25.12\n",
       "\n",
       "[1000 rows x 1 columns]"
      ]
     },
     "execution_count": 12,
     "metadata": {},
     "output_type": "execute_result"
    }
   ],
   "source": [
    "df[['Batting Average']]"
   ]
  },
  {
   "cell_type": "code",
   "execution_count": 13,
   "id": "d2f79b7d-3713-4e19-91b5-aa4798df3986",
   "metadata": {},
   "outputs": [
    {
     "name": "stdout",
     "output_type": "stream",
     "text": [
      "40.135\n"
     ]
    }
   ],
   "source": [
    "median = df['Batting Average'].median()\n",
    "print(median)"
   ]
  },
  {
   "cell_type": "markdown",
   "id": "23aded09-517d-48c6-afbc-8c45298bc479",
   "metadata": {},
   "source": [
    "# Query 6: Find the standard deviation of strike rates"
   ]
  },
  {
   "cell_type": "code",
   "execution_count": 14,
   "id": "212f61b0-82aa-4117-a9b6-818e3928366b",
   "metadata": {},
   "outputs": [
    {
     "data": {
      "text/html": [
       "<div>\n",
       "<style scoped>\n",
       "    .dataframe tbody tr th:only-of-type {\n",
       "        vertical-align: middle;\n",
       "    }\n",
       "\n",
       "    .dataframe tbody tr th {\n",
       "        vertical-align: top;\n",
       "    }\n",
       "\n",
       "    .dataframe thead th {\n",
       "        text-align: right;\n",
       "    }\n",
       "</style>\n",
       "<table border=\"1\" class=\"dataframe\">\n",
       "  <thead>\n",
       "    <tr style=\"text-align: right;\">\n",
       "      <th></th>\n",
       "      <th>Player Name</th>\n",
       "      <th>Age</th>\n",
       "      <th>Matches Played</th>\n",
       "      <th>Batting Average</th>\n",
       "      <th>Strike Rate</th>\n",
       "    </tr>\n",
       "  </thead>\n",
       "  <tbody>\n",
       "    <tr>\n",
       "      <th>0</th>\n",
       "      <td>Player_1</td>\n",
       "      <td>26</td>\n",
       "      <td>456</td>\n",
       "      <td>27.70</td>\n",
       "      <td>188.21</td>\n",
       "    </tr>\n",
       "    <tr>\n",
       "      <th>1</th>\n",
       "      <td>Player_2</td>\n",
       "      <td>23</td>\n",
       "      <td>154</td>\n",
       "      <td>24.61</td>\n",
       "      <td>139.34</td>\n",
       "    </tr>\n",
       "    <tr>\n",
       "      <th>2</th>\n",
       "      <td>Player_3</td>\n",
       "      <td>32</td>\n",
       "      <td>210</td>\n",
       "      <td>36.87</td>\n",
       "      <td>182.79</td>\n",
       "    </tr>\n",
       "    <tr>\n",
       "      <th>3</th>\n",
       "      <td>Player_4</td>\n",
       "      <td>34</td>\n",
       "      <td>426</td>\n",
       "      <td>51.81</td>\n",
       "      <td>178.77</td>\n",
       "    </tr>\n",
       "    <tr>\n",
       "      <th>4</th>\n",
       "      <td>Player_5</td>\n",
       "      <td>30</td>\n",
       "      <td>221</td>\n",
       "      <td>49.80</td>\n",
       "      <td>162.44</td>\n",
       "    </tr>\n",
       "  </tbody>\n",
       "</table>\n",
       "</div>"
      ],
      "text/plain": [
       "  Player Name  Age  Matches Played  Batting Average  Strike Rate\n",
       "0    Player_1   26             456            27.70       188.21\n",
       "1    Player_2   23             154            24.61       139.34\n",
       "2    Player_3   32             210            36.87       182.79\n",
       "3    Player_4   34             426            51.81       178.77\n",
       "4    Player_5   30             221            49.80       162.44"
      ]
     },
     "execution_count": 14,
     "metadata": {},
     "output_type": "execute_result"
    }
   ],
   "source": [
    "df.head()"
   ]
  },
  {
   "cell_type": "code",
   "execution_count": 19,
   "id": "e2553f1d-a0b3-4992-9515-97b91aba97c1",
   "metadata": {},
   "outputs": [
    {
     "name": "stdout",
     "output_type": "stream",
     "text": [
      "29.122759125573694\n"
     ]
    }
   ],
   "source": [
    "str=np.array(df['Strike Rate'].std())\n",
    "print(str)"
   ]
  },
  {
   "cell_type": "markdown",
   "id": "8bb332af-5af8-4741-95c1-9d541218f9dc",
   "metadata": {},
   "source": [
    "# Query 7: Find the 90th percentile of batting average."
   ]
  },
  {
   "cell_type": "code",
   "execution_count": 24,
   "id": "2da44e1f-79e5-4e8a-9b2d-262f026fe8c5",
   "metadata": {},
   "outputs": [
    {
     "name": "stdout",
     "output_type": "stream",
     "text": [
      "55.323\n"
     ]
    }
   ],
   "source": [
    "b_avg=np.array(df[\"Batting Average\"])\n",
    "p=np.percentile(b_avg,90)\n",
    "print(p)"
   ]
  },
  {
   "cell_type": "markdown",
   "id": "43f3a8bf-9643-4a8c-ad34-f1b31ec12052",
   "metadata": {},
   "source": [
    "# Query 8: Find the number of players with strike rate above 150."
   ]
  },
  {
   "cell_type": "code",
   "execution_count": 25,
   "id": "28e1314c-1087-4584-80e8-12b09e5b33af",
   "metadata": {},
   "outputs": [
    {
     "name": "stdout",
     "output_type": "stream",
     "text": [
      "513\n"
     ]
    }
   ],
   "source": [
    "s=np.array((df[\"Strike Rate\"]>150).sum())\n",
    "print(s)"
   ]
  },
  {
   "cell_type": "markdown",
   "id": "9a537f2a-322e-4207-9a2a-cca2c4016704",
   "metadata": {},
   "source": [
    "# Query 9: Reshape the first 20 batting averages into a 4x5 matrix."
   ]
  },
  {
   "cell_type": "code",
   "execution_count": 27,
   "id": "58ecaf9f-20c9-4059-bb6d-73eb6419d55e",
   "metadata": {},
   "outputs": [
    {
     "data": {
      "text/html": [
       "<div>\n",
       "<style scoped>\n",
       "    .dataframe tbody tr th:only-of-type {\n",
       "        vertical-align: middle;\n",
       "    }\n",
       "\n",
       "    .dataframe tbody tr th {\n",
       "        vertical-align: top;\n",
       "    }\n",
       "\n",
       "    .dataframe thead th {\n",
       "        text-align: right;\n",
       "    }\n",
       "</style>\n",
       "<table border=\"1\" class=\"dataframe\">\n",
       "  <thead>\n",
       "    <tr style=\"text-align: right;\">\n",
       "      <th></th>\n",
       "      <th>Player Name</th>\n",
       "      <th>Age</th>\n",
       "      <th>Matches Played</th>\n",
       "      <th>Batting Average</th>\n",
       "      <th>Strike Rate</th>\n",
       "    </tr>\n",
       "  </thead>\n",
       "  <tbody>\n",
       "    <tr>\n",
       "      <th>0</th>\n",
       "      <td>Player_1</td>\n",
       "      <td>26</td>\n",
       "      <td>456</td>\n",
       "      <td>27.70</td>\n",
       "      <td>188.21</td>\n",
       "    </tr>\n",
       "    <tr>\n",
       "      <th>1</th>\n",
       "      <td>Player_2</td>\n",
       "      <td>23</td>\n",
       "      <td>154</td>\n",
       "      <td>24.61</td>\n",
       "      <td>139.34</td>\n",
       "    </tr>\n",
       "    <tr>\n",
       "      <th>2</th>\n",
       "      <td>Player_3</td>\n",
       "      <td>32</td>\n",
       "      <td>210</td>\n",
       "      <td>36.87</td>\n",
       "      <td>182.79</td>\n",
       "    </tr>\n",
       "    <tr>\n",
       "      <th>3</th>\n",
       "      <td>Player_4</td>\n",
       "      <td>34</td>\n",
       "      <td>426</td>\n",
       "      <td>51.81</td>\n",
       "      <td>178.77</td>\n",
       "    </tr>\n",
       "    <tr>\n",
       "      <th>4</th>\n",
       "      <td>Player_5</td>\n",
       "      <td>30</td>\n",
       "      <td>221</td>\n",
       "      <td>49.80</td>\n",
       "      <td>162.44</td>\n",
       "    </tr>\n",
       "    <tr>\n",
       "      <th>5</th>\n",
       "      <td>Player_6</td>\n",
       "      <td>27</td>\n",
       "      <td>470</td>\n",
       "      <td>22.20</td>\n",
       "      <td>149.45</td>\n",
       "    </tr>\n",
       "    <tr>\n",
       "      <th>6</th>\n",
       "      <td>Player_7</td>\n",
       "      <td>32</td>\n",
       "      <td>229</td>\n",
       "      <td>38.21</td>\n",
       "      <td>197.96</td>\n",
       "    </tr>\n",
       "    <tr>\n",
       "      <th>7</th>\n",
       "      <td>Player_8</td>\n",
       "      <td>24</td>\n",
       "      <td>249</td>\n",
       "      <td>40.90</td>\n",
       "      <td>114.50</td>\n",
       "    </tr>\n",
       "    <tr>\n",
       "      <th>8</th>\n",
       "      <td>Player_9</td>\n",
       "      <td>26</td>\n",
       "      <td>422</td>\n",
       "      <td>45.78</td>\n",
       "      <td>172.52</td>\n",
       "    </tr>\n",
       "    <tr>\n",
       "      <th>9</th>\n",
       "      <td>Player_10</td>\n",
       "      <td>29</td>\n",
       "      <td>406</td>\n",
       "      <td>46.01</td>\n",
       "      <td>119.12</td>\n",
       "    </tr>\n",
       "    <tr>\n",
       "      <th>10</th>\n",
       "      <td>Player_11</td>\n",
       "      <td>22</td>\n",
       "      <td>55</td>\n",
       "      <td>34.59</td>\n",
       "      <td>133.83</td>\n",
       "    </tr>\n",
       "    <tr>\n",
       "      <th>11</th>\n",
       "      <td>Player_12</td>\n",
       "      <td>26</td>\n",
       "      <td>44</td>\n",
       "      <td>42.43</td>\n",
       "      <td>130.87</td>\n",
       "    </tr>\n",
       "    <tr>\n",
       "      <th>12</th>\n",
       "      <td>Player_13</td>\n",
       "      <td>30</td>\n",
       "      <td>262</td>\n",
       "      <td>39.24</td>\n",
       "      <td>194.70</td>\n",
       "    </tr>\n",
       "    <tr>\n",
       "      <th>13</th>\n",
       "      <td>Player_14</td>\n",
       "      <td>30</td>\n",
       "      <td>399</td>\n",
       "      <td>55.40</td>\n",
       "      <td>196.74</td>\n",
       "    </tr>\n",
       "    <tr>\n",
       "      <th>14</th>\n",
       "      <td>Player_15</td>\n",
       "      <td>27</td>\n",
       "      <td>91</td>\n",
       "      <td>41.21</td>\n",
       "      <td>118.30</td>\n",
       "    </tr>\n",
       "    <tr>\n",
       "      <th>15</th>\n",
       "      <td>Player_16</td>\n",
       "      <td>24</td>\n",
       "      <td>380</td>\n",
       "      <td>37.64</td>\n",
       "      <td>102.20</td>\n",
       "    </tr>\n",
       "    <tr>\n",
       "      <th>16</th>\n",
       "      <td>Player_17</td>\n",
       "      <td>23</td>\n",
       "      <td>265</td>\n",
       "      <td>36.18</td>\n",
       "      <td>172.00</td>\n",
       "    </tr>\n",
       "    <tr>\n",
       "      <th>17</th>\n",
       "      <td>Player_18</td>\n",
       "      <td>27</td>\n",
       "      <td>206</td>\n",
       "      <td>42.90</td>\n",
       "      <td>141.80</td>\n",
       "    </tr>\n",
       "    <tr>\n",
       "      <th>18</th>\n",
       "      <td>Player_19</td>\n",
       "      <td>27</td>\n",
       "      <td>312</td>\n",
       "      <td>52.16</td>\n",
       "      <td>108.88</td>\n",
       "    </tr>\n",
       "    <tr>\n",
       "      <th>19</th>\n",
       "      <td>Player_20</td>\n",
       "      <td>22</td>\n",
       "      <td>418</td>\n",
       "      <td>41.54</td>\n",
       "      <td>168.38</td>\n",
       "    </tr>\n",
       "  </tbody>\n",
       "</table>\n",
       "</div>"
      ],
      "text/plain": [
       "   Player Name  Age  Matches Played  Batting Average  Strike Rate\n",
       "0     Player_1   26             456            27.70       188.21\n",
       "1     Player_2   23             154            24.61       139.34\n",
       "2     Player_3   32             210            36.87       182.79\n",
       "3     Player_4   34             426            51.81       178.77\n",
       "4     Player_5   30             221            49.80       162.44\n",
       "5     Player_6   27             470            22.20       149.45\n",
       "6     Player_7   32             229            38.21       197.96\n",
       "7     Player_8   24             249            40.90       114.50\n",
       "8     Player_9   26             422            45.78       172.52\n",
       "9    Player_10   29             406            46.01       119.12\n",
       "10   Player_11   22              55            34.59       133.83\n",
       "11   Player_12   26              44            42.43       130.87\n",
       "12   Player_13   30             262            39.24       194.70\n",
       "13   Player_14   30             399            55.40       196.74\n",
       "14   Player_15   27              91            41.21       118.30\n",
       "15   Player_16   24             380            37.64       102.20\n",
       "16   Player_17   23             265            36.18       172.00\n",
       "17   Player_18   27             206            42.90       141.80\n",
       "18   Player_19   27             312            52.16       108.88\n",
       "19   Player_20   22             418            41.54       168.38"
      ]
     },
     "execution_count": 27,
     "metadata": {},
     "output_type": "execute_result"
    }
   ],
   "source": [
    "df.head(20)"
   ]
  },
  {
   "cell_type": "code",
   "execution_count": 34,
   "id": "225aba83-d69e-4484-9299-6d47fe5dcca3",
   "metadata": {},
   "outputs": [
    {
     "name": "stdout",
     "output_type": "stream",
     "text": [
      "[27.7  24.61 36.87 51.81 49.8  22.2  38.21 40.9  45.78 46.01 34.59 42.43\n",
      " 39.24 55.4  41.21 37.64 36.18 42.9  52.16 41.54]\n",
      "(20,)\n",
      "[[27.7  24.61 36.87 51.81]\n",
      " [49.8  22.2  38.21 40.9 ]\n",
      " [45.78 46.01 34.59 42.43]\n",
      " [39.24 55.4  41.21 37.64]\n",
      " [36.18 42.9  52.16 41.54]]\n"
     ]
    }
   ],
   "source": [
    "batting = np.array(df['Batting Average'].head(20))\n",
    "print(batting)\n",
    "\n",
    "print(batting.shape)\n",
    "\n",
    "avg = batting.reshape(5,4)\n",
    "print(avg)"
   ]
  },
  {
   "cell_type": "markdown",
   "id": "5de2882b-cdfc-4a3e-9d6f-1bd29aec94ca",
   "metadata": {},
   "source": [
    "# Query 10: Compute row-wise sum of reshaped matrix."
   ]
  },
  {
   "cell_type": "code",
   "execution_count": 37,
   "id": "037dba4e-1336-434a-ad0e-854b5995156d",
   "metadata": {},
   "outputs": [
    {
     "name": "stdout",
     "output_type": "stream",
     "text": [
      "[140.99 151.11 168.81 173.49 172.78]\n"
     ]
    }
   ],
   "source": [
    "row = np.sum(avg, axis = 1)\n",
    "print(row)"
   ]
  },
  {
   "cell_type": "markdown",
   "id": "2227305f-2921-48ff-ac6c-0c8836421eed",
   "metadata": {},
   "source": [
    "# Query 11: Compute column-wise mean of reshaped matrix."
   ]
  },
  {
   "cell_type": "code",
   "execution_count": 39,
   "id": "e3f01a6e-3174-4e52-9d13-5d88ab9fee19",
   "metadata": {},
   "outputs": [
    {
     "name": "stdout",
     "output_type": "stream",
     "text": [
      "[198.7  191.12 203.04 214.32]\n"
     ]
    }
   ],
   "source": [
    "column = np.sum(avg, axis = 0)\n",
    "print(column)"
   ]
  },
  {
   "cell_type": "markdown",
   "id": "a6287c3e-bf42-46b2-93f1-24bfb7485db0",
   "metadata": {},
   "source": [
    "# Query 12: Transpose the reshaped matrix."
   ]
  },
  {
   "cell_type": "code",
   "execution_count": 40,
   "id": "73358b41-d30c-4f89-ba98-518dff076f68",
   "metadata": {},
   "outputs": [
    {
     "name": "stdout",
     "output_type": "stream",
     "text": [
      "[[27.7  49.8  45.78 39.24 36.18]\n",
      " [24.61 22.2  46.01 55.4  42.9 ]\n",
      " [36.87 38.21 34.59 41.21 52.16]\n",
      " [51.81 40.9  42.43 37.64 41.54]]\n"
     ]
    }
   ],
   "source": [
    "transpose = avg.T\n",
    "print(transpose)"
   ]
  },
  {
   "cell_type": "markdown",
   "id": "d7d76f1d-7e10-43bb-a530-aab3de38aa13",
   "metadata": {},
   "source": [
    "# Query 13: Find the variance of batting average."
   ]
  },
  {
   "cell_type": "code",
   "execution_count": 41,
   "id": "ce43ef90-bd00-4056-a515-d1a75e17f526",
   "metadata": {},
   "outputs": [
    {
     "name": "stdout",
     "output_type": "stream",
     "text": [
      "131.6715008167167\n"
     ]
    }
   ],
   "source": [
    "variance=np.array(df[\"Batting Average\"].var())\n",
    "print(variance)"
   ]
  },
  {
   "cell_type": "markdown",
   "id": "35e6af26-9442-4215-8c87-0813ca8d1f0e",
   "metadata": {},
   "source": [
    "# Query 14: Stack age and matches played horizontally"
   ]
  },
  {
   "cell_type": "code",
   "execution_count": 43,
   "id": "58eeacc6-807f-4cca-9fcb-4f1927e82b92",
   "metadata": {},
   "outputs": [
    {
     "name": "stdout",
     "output_type": "stream",
     "text": [
      "[[ 26  23  32 ...  23  35  30]\n",
      " [456 154 210 ... 126  16 146]]\n"
     ]
    }
   ],
   "source": [
    "n = np.array(df[\"Age\"])\n",
    "n1 = np.array(df[\"Matches Played\"])\n",
    "stacked = np.stack((n,n1))\n",
    "print(stacked)"
   ]
  },
  {
   "cell_type": "markdown",
   "id": "524d030e-26ad-4b30-b088-715993d62009",
   "metadata": {},
   "source": [
    "# Query 15: Split the batting average array into 5 equal parts."
   ]
  },
  {
   "cell_type": "code",
   "execution_count": 44,
   "id": "9774f092-7d4a-4f79-8ace-9af4539f183e",
   "metadata": {},
   "outputs": [
    {
     "data": {
      "text/html": [
       "<div>\n",
       "<style scoped>\n",
       "    .dataframe tbody tr th:only-of-type {\n",
       "        vertical-align: middle;\n",
       "    }\n",
       "\n",
       "    .dataframe tbody tr th {\n",
       "        vertical-align: top;\n",
       "    }\n",
       "\n",
       "    .dataframe thead th {\n",
       "        text-align: right;\n",
       "    }\n",
       "</style>\n",
       "<table border=\"1\" class=\"dataframe\">\n",
       "  <thead>\n",
       "    <tr style=\"text-align: right;\">\n",
       "      <th></th>\n",
       "      <th>Player Name</th>\n",
       "      <th>Age</th>\n",
       "      <th>Matches Played</th>\n",
       "      <th>Batting Average</th>\n",
       "      <th>Strike Rate</th>\n",
       "    </tr>\n",
       "  </thead>\n",
       "  <tbody>\n",
       "    <tr>\n",
       "      <th>0</th>\n",
       "      <td>Player_1</td>\n",
       "      <td>26</td>\n",
       "      <td>456</td>\n",
       "      <td>27.70</td>\n",
       "      <td>188.21</td>\n",
       "    </tr>\n",
       "    <tr>\n",
       "      <th>1</th>\n",
       "      <td>Player_2</td>\n",
       "      <td>23</td>\n",
       "      <td>154</td>\n",
       "      <td>24.61</td>\n",
       "      <td>139.34</td>\n",
       "    </tr>\n",
       "    <tr>\n",
       "      <th>2</th>\n",
       "      <td>Player_3</td>\n",
       "      <td>32</td>\n",
       "      <td>210</td>\n",
       "      <td>36.87</td>\n",
       "      <td>182.79</td>\n",
       "    </tr>\n",
       "    <tr>\n",
       "      <th>3</th>\n",
       "      <td>Player_4</td>\n",
       "      <td>34</td>\n",
       "      <td>426</td>\n",
       "      <td>51.81</td>\n",
       "      <td>178.77</td>\n",
       "    </tr>\n",
       "    <tr>\n",
       "      <th>4</th>\n",
       "      <td>Player_5</td>\n",
       "      <td>30</td>\n",
       "      <td>221</td>\n",
       "      <td>49.80</td>\n",
       "      <td>162.44</td>\n",
       "    </tr>\n",
       "  </tbody>\n",
       "</table>\n",
       "</div>"
      ],
      "text/plain": [
       "  Player Name  Age  Matches Played  Batting Average  Strike Rate\n",
       "0    Player_1   26             456            27.70       188.21\n",
       "1    Player_2   23             154            24.61       139.34\n",
       "2    Player_3   32             210            36.87       182.79\n",
       "3    Player_4   34             426            51.81       178.77\n",
       "4    Player_5   30             221            49.80       162.44"
      ]
     },
     "execution_count": 44,
     "metadata": {},
     "output_type": "execute_result"
    }
   ],
   "source": [
    "df.head()"
   ]
  },
  {
   "cell_type": "code",
   "execution_count": 45,
   "id": "449e5b01-7107-45fa-a3f7-5479a94abb37",
   "metadata": {},
   "outputs": [
    {
     "name": "stdout",
     "output_type": "stream",
     "text": [
      "[array([27.7 , 24.61, 36.87, 51.81, 49.8 , 22.2 , 38.21, 40.9 , 45.78,\n",
      "       46.01, 34.59, 42.43, 39.24, 55.4 , 41.21, 37.64, 36.18, 42.9 ,\n",
      "       52.16, 41.54, 46.47, 49.51, 40.81, 37.07, 55.07, 36.7 , 38.48,\n",
      "       59.61, 20.01, 27.42, 35.36, 57.3 , 22.8 , 20.38, 22.11, 23.54,\n",
      "       21.5 , 39.19, 43.23, 30.87, 35.93, 23.67, 33.45, 40.9 , 49.29,\n",
      "       20.13, 38.69, 31.88, 54.11, 48.62, 43.56, 31.09, 56.41, 21.8 ,\n",
      "       24.38, 35.67, 24.98, 58.26, 51.92, 30.36, 43.54, 59.29, 55.37,\n",
      "       44.03, 56.15, 59.57, 49.73, 22.6 , 36.06, 53.51, 29.22, 53.23,\n",
      "       24.81, 21.88, 35.36, 21.47, 58.29, 53.05, 52.03, 45.19, 28.65,\n",
      "       40.73, 43.89, 41.  , 30.41, 40.61, 39.65, 59.85, 55.9 , 38.54,\n",
      "       44.92, 49.91, 21.39, 55.8 , 54.41, 38.3 , 35.65, 30.92, 39.07,\n",
      "       21.78, 54.09, 21.42, 33.16, 57.26, 49.41, 31.26, 30.11, 20.2 ,\n",
      "       47.83, 21.95, 41.3 , 58.48, 24.38, 55.78, 59.66, 22.46, 55.32,\n",
      "       40.64, 56.26, 42.85, 46.48, 41.75, 54.58, 49.36, 40.85, 54.73,\n",
      "       29.81, 26.29, 26.42, 33.36, 29.55, 57.2 , 24.23, 47.96, 27.57,\n",
      "       55.27, 58.45, 38.62, 55.16, 20.21, 52.8 , 29.15, 56.35, 20.04,\n",
      "       42.25, 50.27, 30.35, 27.73, 23.36, 33.06, 42.39, 24.63, 35.07,\n",
      "       20.36, 52.75, 25.14, 31.33, 20.74, 37.29, 53.6 , 35.69, 27.18,\n",
      "       50.15, 51.55, 26.95, 50.83, 57.89, 26.66, 50.84, 48.34, 38.94,\n",
      "       22.32, 22.99, 54.1 , 59.61, 47.04, 37.84, 45.9 , 43.78, 35.34,\n",
      "       22.63, 52.86, 34.87, 52.75, 30.1 , 20.04, 26.36, 38.74, 57.77,\n",
      "       24.09, 54.17, 41.08, 53.04, 31.93, 53.6 , 50.91, 29.2 , 25.25,\n",
      "       54.72, 58.53]), array([21.25, 49.25, 56.38, 54.29, 58.58, 50.4 , 37.69, 32.48, 32.83,\n",
      "       48.98, 49.83, 28.01, 54.72, 48.6 , 42.51, 38.86, 41.73, 26.37,\n",
      "       28.15, 23.65, 26.15, 38.15, 41.21, 20.71, 51.87, 31.77, 56.47,\n",
      "       58.7 , 27.42, 38.48, 20.05, 43.93, 44.29, 29.9 , 42.34, 29.02,\n",
      "       26.43, 46.06, 33.04, 43.61, 37.33, 59.37, 25.98, 38.58, 47.22,\n",
      "       35.82, 58.99, 48.88, 46.28, 50.28, 58.11, 56.31, 48.97, 49.97,\n",
      "       25.84, 24.11, 42.84, 20.73, 39.29, 28.41, 33.84, 51.03, 57.65,\n",
      "       22.9 , 41.37, 55.3 , 23.3 , 52.98, 34.31, 32.88, 59.1 , 28.03,\n",
      "       47.73, 52.86, 21.65, 46.82, 58.06, 24.97, 55.85, 43.79, 44.66,\n",
      "       44.52, 31.95, 57.41, 57.89, 45.01, 51.34, 44.49, 39.38, 46.43,\n",
      "       42.12, 43.9 , 51.35, 39.24, 21.63, 26.56, 37.54, 48.99, 43.73,\n",
      "       46.01, 39.17, 44.63, 33.16, 38.81, 49.77, 54.87, 37.35, 21.75,\n",
      "       26.47, 20.83, 46.13, 33.29, 41.7 , 39.73, 23.26, 36.13, 28.82,\n",
      "       36.74, 28.14, 53.62, 26.97, 58.43, 36.64, 53.85, 45.15, 49.41,\n",
      "       50.71, 40.19, 41.73, 40.56, 43.52, 21.18, 35.82, 44.25, 43.91,\n",
      "       51.72, 46.2 , 59.69, 31.35, 34.37, 35.35, 38.63, 53.44, 29.43,\n",
      "       51.04, 36.21, 44.07, 45.3 , 34.91, 40.5 , 36.52, 22.77, 37.49,\n",
      "       23.9 , 36.2 , 43.72, 43.18, 46.5 , 23.81, 46.08, 32.49, 35.96,\n",
      "       54.32, 20.36, 43.54, 43.95, 35.87, 29.48, 29.39, 55.35, 37.68,\n",
      "       33.24, 37.95, 46.78, 25.83, 37.98, 43.52, 57.94, 30.1 , 34.37,\n",
      "       35.17, 44.22, 34.27, 41.34, 51.27, 48.22, 37.85, 54.57, 42.33,\n",
      "       41.6 , 21.37, 59.47, 24.92, 29.25, 22.07, 45.6 , 28.99, 27.2 ,\n",
      "       23.54, 24.13]), array([43.39, 47.53, 35.9 , 39.2 , 47.44, 20.7 , 32.93, 58.92, 43.2 ,\n",
      "       30.17, 40.87, 33.71, 41.29, 25.03, 25.31, 25.74, 57.59, 49.32,\n",
      "       26.5 , 27.53, 49.23, 26.25, 29.38, 58.53, 30.21, 46.47, 59.15,\n",
      "       34.97, 20.7 , 29.77, 53.24, 54.58, 50.74, 24.52, 51.82, 56.75,\n",
      "       44.02, 57.64, 53.07, 46.68, 43.09, 33.94, 26.37, 44.2 , 32.72,\n",
      "       54.66, 59.73, 50.1 , 23.62, 31.55, 24.36, 46.02, 50.61, 57.03,\n",
      "       37.53, 56.06, 55.12, 32.69, 54.76, 35.03, 31.87, 45.96, 33.14,\n",
      "       45.21, 44.39, 42.54, 35.22, 41.94, 43.86, 41.83, 37.78, 20.59,\n",
      "       43.48, 26.74, 45.7 , 50.37, 40.02, 41.69, 58.06, 53.89, 56.57,\n",
      "       52.55, 24.36, 25.96, 41.06, 29.84, 39.07, 35.77, 41.98, 49.88,\n",
      "       48.62, 40.85, 52.9 , 37.23, 55.87, 22.85, 58.19, 46.19, 35.2 ,\n",
      "       27.89, 39.17, 27.78, 26.65, 44.69, 40.92, 46.8 , 57.18, 41.29,\n",
      "       43.24, 23.59, 48.71, 36.  , 59.07, 52.93, 40.9 , 24.93, 54.38,\n",
      "       51.99, 27.38, 31.81, 51.74, 27.41, 56.71, 36.98, 23.48, 52.63,\n",
      "       34.94, 41.06, 24.49, 20.1 , 45.52, 40.61, 43.74, 51.75, 45.86,\n",
      "       26.99, 34.43, 56.24, 50.8 , 42.27, 30.23, 32.08, 49.28, 54.05,\n",
      "       46.86, 52.38, 50.67, 25.99, 36.96, 26.12, 29.41, 54.77, 38.92,\n",
      "       41.41, 27.14, 32.49, 29.21, 28.25, 45.52, 30.28, 45.28, 22.34,\n",
      "       25.67, 30.98, 43.88, 47.03, 37.71, 37.83, 48.98, 20.63, 33.64,\n",
      "       52.75, 44.13, 33.49, 56.22, 50.9 , 30.6 , 45.81, 43.83, 36.05,\n",
      "       34.68, 33.74, 44.69, 37.7 , 53.27, 46.78, 22.8 , 45.61, 30.85,\n",
      "       43.71, 47.21, 29.23, 38.27, 27.61, 22.09, 35.14, 34.52, 59.82,\n",
      "       37.85, 33.34]), array([43.22, 23.55, 58.47, 45.4 , 50.19, 26.82, 36.38, 36.91, 52.87,\n",
      "       20.05, 32.03, 59.25, 39.  , 35.3 , 24.79, 58.97, 20.8 , 49.49,\n",
      "       50.74, 29.75, 46.86, 23.72, 30.28, 51.52, 54.59, 44.34, 40.27,\n",
      "       26.37, 22.52, 24.71, 29.09, 33.67, 35.24, 33.85, 29.56, 40.39,\n",
      "       53.01, 31.19, 57.7 , 54.93, 26.47, 51.45, 42.98, 42.66, 35.64,\n",
      "       40.05, 35.89, 41.59, 45.12, 46.97, 41.3 , 48.86, 25.65, 28.48,\n",
      "       52.75, 32.9 , 20.92, 26.15, 28.94, 58.29, 42.92, 57.31, 43.01,\n",
      "       39.17, 32.55, 44.25, 25.57, 55.93, 53.17, 32.7 , 58.11, 53.01,\n",
      "       46.65, 24.87, 39.13, 40.24, 29.3 , 23.2 , 51.07, 24.88, 43.77,\n",
      "       57.46, 55.04, 31.11, 54.06, 20.01, 20.71, 44.1 , 34.59, 35.46,\n",
      "       42.58, 27.67, 28.47, 39.38, 50.17, 44.78, 31.89, 37.21, 26.83,\n",
      "       22.99, 51.31, 30.62, 27.11, 47.66, 44.72, 45.33, 29.16, 29.31,\n",
      "       28.83, 26.95, 46.23, 53.92, 48.97, 51.68, 36.19, 46.16, 34.17,\n",
      "       41.02, 39.27, 27.08, 35.48, 58.55, 29.94, 25.35, 36.74, 51.61,\n",
      "       43.29, 47.24, 27.59, 44.76, 32.94, 53.37, 45.17, 27.95, 22.58,\n",
      "       21.71, 34.86, 30.63, 45.84, 39.97, 30.64, 25.97, 25.09, 54.59,\n",
      "       29.74, 46.07, 52.43, 44.56, 54.38, 35.7 , 58.25, 25.33, 24.09,\n",
      "       46.35, 57.71, 52.36, 23.06, 31.17, 57.21, 30.12, 51.25, 53.01,\n",
      "       39.82, 35.45, 38.  , 29.08, 55.58, 38.02, 55.3 , 24.23, 59.53,\n",
      "       37.73, 21.91, 21.52, 49.85, 46.36, 52.09, 24.21, 21.42, 40.34,\n",
      "       35.5 , 38.48, 59.66, 58.83, 57.69, 51.35, 34.19, 36.49, 41.98,\n",
      "       53.22, 22.75, 36.97, 23.3 , 40.59, 55.96, 51.3 , 29.11, 59.04,\n",
      "       46.69, 20.42]), array([30.22, 30.43, 22.77, 58.39, 39.13, 55.83, 32.89, 25.01, 38.97,\n",
      "       24.56, 39.44, 56.81, 40.83, 44.66, 26.27, 21.75, 24.43, 43.94,\n",
      "       23.8 , 35.04, 42.  , 35.55, 26.55, 30.95, 57.13, 47.04, 39.84,\n",
      "       20.51, 59.7 , 46.86, 32.68, 55.17, 30.34, 41.76, 45.44, 28.84,\n",
      "       59.14, 49.93, 42.31, 27.22, 22.15, 32.8 , 50.13, 30.77, 41.58,\n",
      "       49.12, 24.32, 47.41, 23.67, 58.61, 39.54, 26.03, 33.7 , 36.54,\n",
      "       50.33, 49.74, 44.48, 24.24, 26.06, 23.75, 43.09, 55.09, 37.35,\n",
      "       26.43, 42.32, 52.47, 49.67, 55.26, 31.12, 27.76, 55.19, 46.3 ,\n",
      "       32.44, 49.69, 52.6 , 44.6 , 47.52, 35.01, 41.55, 40.97, 53.92,\n",
      "       53.6 , 53.31, 20.44, 49.98, 50.35, 47.14, 50.25, 53.68, 38.81,\n",
      "       40.08, 24.99, 35.42, 45.73, 51.22, 28.69, 25.51, 46.52, 20.08,\n",
      "       27.13, 21.16, 26.68, 27.25, 35.51, 36.09, 54.97, 40.4 , 48.94,\n",
      "       24.17, 29.02, 48.12, 22.11, 39.46, 43.97, 44.09, 20.92, 32.88,\n",
      "       45.46, 25.96, 47.82, 49.84, 59.28, 28.39, 53.01, 40.81, 34.94,\n",
      "       24.9 , 49.42, 29.43, 34.86, 22.5 , 52.05, 50.66, 49.34, 31.98,\n",
      "       26.94, 45.5 , 39.85, 27.13, 47.44, 59.65, 49.89, 49.6 , 58.01,\n",
      "       28.12, 42.62, 59.19, 26.61, 48.01, 43.43, 43.46, 47.91, 57.18,\n",
      "       51.3 , 22.25, 54.11, 29.02, 35.08, 38.47, 39.24, 37.41, 57.49,\n",
      "       48.24, 45.25, 21.99, 56.16, 56.38, 51.21, 20.28, 22.29, 29.01,\n",
      "       25.25, 35.95, 56.9 , 38.88, 20.54, 31.31, 21.78, 21.45, 31.03,\n",
      "       31.02, 51.49, 58.99, 34.85, 37.16, 53.79, 30.73, 26.26, 54.12,\n",
      "       21.86, 44.79, 42.48, 33.84, 32.61, 50.87, 23.46, 29.47, 49.3 ,\n",
      "       41.93, 25.12])]\n"
     ]
    }
   ],
   "source": [
    "n = np.array(df[\"Batting Average\"])\n",
    "split = np.split(n,5)\n",
    "print(split)"
   ]
  },
  {
   "cell_type": "code",
   "execution_count": null,
   "id": "ab58265d-25cb-4ab2-be5b-4654899572f3",
   "metadata": {},
   "outputs": [],
   "source": []
  }
 ],
 "metadata": {
  "kernelspec": {
   "display_name": "Python 3 (ipykernel)",
   "language": "python",
   "name": "python3"
  },
  "language_info": {
   "codemirror_mode": {
    "name": "ipython",
    "version": 3
   },
   "file_extension": ".py",
   "mimetype": "text/x-python",
   "name": "python",
   "nbconvert_exporter": "python",
   "pygments_lexer": "ipython3",
   "version": "3.12.7"
  }
 },
 "nbformat": 4,
 "nbformat_minor": 5
}
